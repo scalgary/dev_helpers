{
 "cells": [
  {
   "cell_type": "code",
   "execution_count": 2,
   "id": "2382a7a7",
   "metadata": {},
   "outputs": [],
   "source": [
    "import sys\n",
    "sys.path.append(\"dev_helpers\")\n",
    "\n",
    "from git_utils import get_git_tracked_tree"
   ]
  },
  {
   "cell_type": "code",
   "execution_count": 3,
   "id": "3b918432",
   "metadata": {},
   "outputs": [
    {
     "name": "stdout",
     "output_type": "stream",
     "text": [
      "./\n",
      "├── .gitignore\n",
      "├── Dockerfile\n",
      "├── README.md\n",
      "├── docker-compose.yml\n",
      "├── requirements.txt\n",
      "└── src\n",
      "    └── main.py\n"
     ]
    }
   ],
   "source": [
    "get_git_tracked_tree()"
   ]
  }
 ],
 "metadata": {
  "kernelspec": {
   "display_name": ".venv",
   "language": "python",
   "name": "python3"
  },
  "language_info": {
   "codemirror_mode": {
    "name": "ipython",
    "version": 3
   },
   "file_extension": ".py",
   "mimetype": "text/x-python",
   "name": "python",
   "nbconvert_exporter": "python",
   "pygments_lexer": "ipython3",
   "version": "3.12.8"
  }
 },
 "nbformat": 4,
 "nbformat_minor": 5
}
